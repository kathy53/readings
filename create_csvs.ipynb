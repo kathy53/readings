{
 "cells": [
  {
   "cell_type": "markdown",
   "id": "8c57162c-9df5-4094-9994-0860fd989472",
   "metadata": {},
   "source": [
    "# Looking into DB\n",
    "https://www.kaggle.com/datasets/jealousleopard/goodreadsbooks?select=books.csv"
   ]
  },
  {
   "cell_type": "code",
   "execution_count": 1,
   "id": "88c514f6-a4ec-4c94-90ff-c555d7fbab79",
   "metadata": {},
   "outputs": [],
   "source": [
    "import pandas as pd\n",
    "import numpy as np\n",
    "import matplotlib.pyplot as plt"
   ]
  },
  {
   "cell_type": "code",
   "execution_count": 3,
   "id": "371acca9-022d-48f6-8914-b68b5dc357be",
   "metadata": {},
   "outputs": [],
   "source": [
    "data = pd.read_csv('goodreads_data.csv')"
   ]
  },
  {
   "cell_type": "raw",
   "id": "339350b4-944c-40f6-8852-c01ede650b11",
   "metadata": {},
   "source": [
    "Brief EDA"
   ]
  },
  {
   "cell_type": "code",
   "execution_count": null,
   "id": "5b370efb-fbb9-4e11-8486-ba02ee54b502",
   "metadata": {
    "tags": []
   },
   "outputs": [],
   "source": [
    "#data.info()\n",
    "#data.shape"
   ]
  },
  {
   "cell_type": "code",
   "execution_count": 4,
   "id": "6937fd2a-25a4-44fb-9159-db5a36d37252",
   "metadata": {
    "tags": []
   },
   "outputs": [
    {
     "data": {
      "text/plain": [
       "bookID                   0\n",
       "title                    0\n",
       "authors                  1\n",
       "average_rating           1\n",
       "isbn                     1\n",
       "isbn13                   1\n",
       "language_code            1\n",
       "num_pages                1\n",
       "ratings_count            1\n",
       "text_reviews_count       1\n",
       "publication_date         1\n",
       "publisher                1\n",
       "Unnamed: 12           8427\n",
       "Unnamed: 13           8465\n",
       "Unnamed: 14           8471\n",
       "dtype: int64"
      ]
     },
     "execution_count": 4,
     "metadata": {},
     "output_type": "execute_result"
    }
   ],
   "source": [
    "#data.loc[data['Unnamed: 12'].notnull() | data['Unnamed: 13' ].notnull() ].sum()\n",
    "data.isna().sum()\n",
    "#it seems that unnamed columns could be eliminated but maybe they have usuful information, for now we are going to keep them"
   ]
  },
  {
   "cell_type": "code",
   "execution_count": 82,
   "id": "339b705f-1d6f-49f7-9e19-d42da5d0c61c",
   "metadata": {
    "tags": []
   },
   "outputs": [
    {
     "name": "stdout",
     "output_type": "stream",
     "text": [
      "(8427, 10)\n"
     ]
    }
   ],
   "source": [
    "#Droping rows with extra data\n",
    "data = data[data['Unnamed: 12'].isna()] \n",
    "data = data[data['Unnamed: 13'].isna()]\n",
    "data = data[data['Unnamed: 14'].isna()]\n",
    "#droping empty columns\n",
    "data.drop(['Unnamed: 12', 'Unnamed: 13', 'Unnamed: 14', 'language_code', 'bookID'], axis = 1, inplace = True)\n",
    "print(data.shape)\n",
    "data.to_csv('books_2.csv', index = False)\n",
    "#8427 records after droping records with extra columns\n",
    "#data.info()"
   ]
  },
  {
   "cell_type": "code",
   "execution_count": 83,
   "id": "e834bd2f-2d97-42c2-9f7d-301b27a8a0cd",
   "metadata": {},
   "outputs": [
    {
     "data": {
      "text/plain": [
       "title                 0\n",
       "authors               0\n",
       "average_rating        0\n",
       "isbn                  0\n",
       "isbn13                0\n",
       "num_pages             0\n",
       "ratings_count         0\n",
       "text_reviews_count    0\n",
       "publication_date      0\n",
       "publisher             0\n",
       "dtype: int64"
      ]
     },
     "execution_count": 83,
     "metadata": {},
     "output_type": "execute_result"
    }
   ],
   "source": [
    "data =data.dropna()\n",
    "data.shape\n",
    "data.isna().sum()"
   ]
  },
  {
   "cell_type": "code",
   "execution_count": 84,
   "id": "90edd716-2071-4771-ae81-ed0700b48909",
   "metadata": {},
   "outputs": [
    {
     "data": {
      "text/html": [
       "<div>\n",
       "<style scoped>\n",
       "    .dataframe tbody tr th:only-of-type {\n",
       "        vertical-align: middle;\n",
       "    }\n",
       "\n",
       "    .dataframe tbody tr th {\n",
       "        vertical-align: top;\n",
       "    }\n",
       "\n",
       "    .dataframe thead th {\n",
       "        text-align: right;\n",
       "    }\n",
       "</style>\n",
       "<table border=\"1\" class=\"dataframe\">\n",
       "  <thead>\n",
       "    <tr style=\"text-align: right;\">\n",
       "      <th></th>\n",
       "      <th>title</th>\n",
       "      <th>authors</th>\n",
       "      <th>average_rating</th>\n",
       "      <th>isbn</th>\n",
       "      <th>isbn13</th>\n",
       "      <th>num_pages</th>\n",
       "      <th>ratings_count</th>\n",
       "      <th>text_reviews_count</th>\n",
       "      <th>publication_date</th>\n",
       "      <th>publisher</th>\n",
       "    </tr>\n",
       "  </thead>\n",
       "  <tbody>\n",
       "    <tr>\n",
       "      <th>0</th>\n",
       "      <td>Harry Potter and the Half-Blood Prince (Harry ...</td>\n",
       "      <td>J.K. Rowling/Mary GrandPré</td>\n",
       "      <td>4.57</td>\n",
       "      <td>439785960</td>\n",
       "      <td>9780439785969</td>\n",
       "      <td>652</td>\n",
       "      <td>2095690</td>\n",
       "      <td>27591</td>\n",
       "      <td>9/16/2006</td>\n",
       "      <td>Scholastic Inc.</td>\n",
       "    </tr>\n",
       "  </tbody>\n",
       "</table>\n",
       "</div>"
      ],
      "text/plain": [
       "                                               title  \\\n",
       "0  Harry Potter and the Half-Blood Prince (Harry ...   \n",
       "\n",
       "                      authors average_rating       isbn         isbn13  \\\n",
       "0  J.K. Rowling/Mary GrandPré           4.57  439785960  9780439785969   \n",
       "\n",
       "  num_pages ratings_count text_reviews_count publication_date        publisher  \n",
       "0       652       2095690              27591        9/16/2006  Scholastic Inc.  "
      ]
     },
     "execution_count": 84,
     "metadata": {},
     "output_type": "execute_result"
    }
   ],
   "source": [
    "data.reset_index()\n",
    "data.head(1)\n",
    "#(8427, 10)"
   ]
  },
  {
   "cell_type": "code",
   "execution_count": 85,
   "id": "2e024a32-0781-4c23-b9a6-b1acf1d956c2",
   "metadata": {},
   "outputs": [
    {
     "data": {
      "text/plain": [
       "Index(['title', 'authors', 'average_rating', 'isbn', 'isbn13', 'num_pages',\n",
       "       'ratings_count', 'text_reviews_count', 'publication_date', 'publisher',\n",
       "       'book_id'],\n",
       "      dtype='object')"
      ]
     },
     "execution_count": 85,
     "metadata": {},
     "output_type": "execute_result"
    }
   ],
   "source": [
    "data['book_id'] = data.index\n",
    "data.columns"
   ]
  },
  {
   "cell_type": "markdown",
   "id": "a8887dd7-7ac8-4c8c-9409-9508288d58ba",
   "metadata": {},
   "source": [
    "# DB Tables to construct\n",
    "1. ratings (principal table): isbn, average_rating, ratings_count, text_reviews_count\n",
    "2. books: isbn, title, num_pages, publication_date, book_id    \n",
    "3. authors: author_id, name    \n",
    "4. publisher: publisher_id, publisher\n",
    "5. connector books-authors: book_id, author_id\n",
    "6. connector books-publishers: book_id, publisher_id "
   ]
  },
  {
   "cell_type": "markdown",
   "id": "ef6c766a-035c-4b96-8ac3-6034cf8ed8a0",
   "metadata": {
    "tags": []
   },
   "source": [
    "## ratings"
   ]
  },
  {
   "cell_type": "code",
   "execution_count": 75,
   "id": "578e9193-0bb6-4dc2-875e-cc5e6ad3fd07",
   "metadata": {},
   "outputs": [
    {
     "data": {
      "text/plain": [
       "Index(['title', 'authors', 'average_rating', 'isbn', 'isbn13', 'num_pages',\n",
       "       'ratings_count', 'text_reviews_count', 'publication_date', 'publisher',\n",
       "       'book_id'],\n",
       "      dtype='object')"
      ]
     },
     "execution_count": 75,
     "metadata": {},
     "output_type": "execute_result"
    }
   ],
   "source": [
    "temp = data.copy(deep = True)            # droping null values\n",
    "#(8427, 10)\n",
    "temp.columns"
   ]
  },
  {
   "cell_type": "code",
   "execution_count": 78,
   "id": "a6a9b0b6-8073-4dcf-9ae3-d6ba17f4a16c",
   "metadata": {},
   "outputs": [],
   "source": [
    "ratings = temp[['average_rating', 'isbn', 'ratings_count', 'text_reviews_count']]"
   ]
  },
  {
   "cell_type": "code",
   "execution_count": 79,
   "id": "6d2691ab-243c-473d-b85c-f0bf13376413",
   "metadata": {},
   "outputs": [
    {
     "data": {
      "text/html": [
       "<div>\n",
       "<style scoped>\n",
       "    .dataframe tbody tr th:only-of-type {\n",
       "        vertical-align: middle;\n",
       "    }\n",
       "\n",
       "    .dataframe tbody tr th {\n",
       "        vertical-align: top;\n",
       "    }\n",
       "\n",
       "    .dataframe thead th {\n",
       "        text-align: right;\n",
       "    }\n",
       "</style>\n",
       "<table border=\"1\" class=\"dataframe\">\n",
       "  <thead>\n",
       "    <tr style=\"text-align: right;\">\n",
       "      <th></th>\n",
       "      <th>isbn</th>\n",
       "      <th>average_rating</th>\n",
       "      <th>ratings_count</th>\n",
       "      <th>text_reviews_count</th>\n",
       "    </tr>\n",
       "  </thead>\n",
       "  <tbody>\n",
       "    <tr>\n",
       "      <th>0</th>\n",
       "      <td>439785960</td>\n",
       "      <td>4.57</td>\n",
       "      <td>2095690</td>\n",
       "      <td>27591</td>\n",
       "    </tr>\n",
       "  </tbody>\n",
       "</table>\n",
       "</div>"
      ],
      "text/plain": [
       "        isbn average_rating ratings_count text_reviews_count\n",
       "0  439785960           4.57       2095690              27591"
      ]
     },
     "execution_count": 79,
     "metadata": {},
     "output_type": "execute_result"
    }
   ],
   "source": [
    "ratings=ratings[['isbn', 'average_rating', 'ratings_count', 'text_reviews_count']]\n",
    "ratings.head(1)"
   ]
  },
  {
   "cell_type": "code",
   "execution_count": 80,
   "id": "b19e2a78-62c8-4005-b878-a848af9786d1",
   "metadata": {},
   "outputs": [],
   "source": [
    "ratings.to_csv('ratings.csv', index =False)"
   ]
  },
  {
   "cell_type": "markdown",
   "id": "53b28786-e1ae-442c-91fd-bfd1dc81a5c0",
   "metadata": {
    "tags": []
   },
   "source": [
    "## Books SF"
   ]
  },
  {
   "cell_type": "markdown",
   "id": "3da2d0b7-6be5-4813-8a36-d81b70e8e206",
   "metadata": {
    "tags": []
   },
   "source": [
    "### Books"
   ]
  },
  {
   "cell_type": "code",
   "execution_count": 90,
   "id": "3398d9e4-0cf7-4ffd-9e6e-2bc02326debc",
   "metadata": {},
   "outputs": [
    {
     "data": {
      "text/plain": [
       "Index(['title', 'authors', 'average_rating', 'isbn', 'isbn13', 'num_pages',\n",
       "       'ratings_count', 'text_reviews_count', 'publication_date', 'publisher',\n",
       "       'book_id'],\n",
       "      dtype='object')"
      ]
     },
     "execution_count": 90,
     "metadata": {},
     "output_type": "execute_result"
    }
   ],
   "source": [
    "temp = data.copy(deep = True)            # droping null values\n",
    "#(8427, 10)\n",
    "temp.columns"
   ]
  },
  {
   "cell_type": "code",
   "execution_count": 91,
   "id": "30c93ec1-e7ad-4bab-b53e-76a7abc3ebf0",
   "metadata": {},
   "outputs": [],
   "source": [
    "book = temp[['book_id', 'title', 'isbn', 'num_pages', 'publication_date']]"
   ]
  },
  {
   "cell_type": "code",
   "execution_count": 92,
   "id": "f524098b-d817-489c-b44b-2952baaf4a77",
   "metadata": {},
   "outputs": [
    {
     "name": "stderr",
     "output_type": "stream",
     "text": [
      "c:\\users\\crgbl\\appdata\\local\\programs\\python\\python37\\lib\\site-packages\\ipykernel_launcher.py:3: SettingWithCopyWarning: \n",
      "A value is trying to be set on a copy of a slice from a DataFrame.\n",
      "Try using .loc[row_indexer,col_indexer] = value instead\n",
      "\n",
      "See the caveats in the documentation: https://pandas.pydata.org/pandas-docs/stable/user_guide/indexing.html#returning-a-view-versus-a-copy\n",
      "  This is separate from the ipykernel package so we can avoid doing imports until\n"
     ]
    },
    {
     "data": {
      "text/plain": [
       "0    2006-9-16\n",
       "1     2004-9-1\n",
       "2    2003-11-1\n",
       "dtype: object"
      ]
     },
     "execution_count": 92,
     "metadata": {},
     "output_type": "execute_result"
    }
   ],
   "source": [
    "#changing date format mm/dd/yyyy to yyyy-mm-dd\n",
    "date_split = pd.concat([book['isbn'], book['publication_date'].str.split('/', expand=True)], axis=1)\n",
    "book['publication_date'] = date_split[[2, 0, 1]].agg('-'.join, axis=1)\n",
    "date.head(3)"
   ]
  },
  {
   "cell_type": "code",
   "execution_count": 93,
   "id": "5cef1fdd-7002-4aba-9b2e-7952cd8a2155",
   "metadata": {},
   "outputs": [],
   "source": [
    "book = book[['isbn', 'title', 'num_pages', 'publication_date', 'book_id']]\n",
    "book.to_csv('books.csv', index =False)"
   ]
  },
  {
   "cell_type": "markdown",
   "id": "bcd12a12-f595-4756-a53f-c1576ec24d88",
   "metadata": {
    "tags": []
   },
   "source": [
    "## authors"
   ]
  },
  {
   "cell_type": "code",
   "execution_count": 56,
   "id": "0123d1d0-f992-4165-beee-7b862a0b6756",
   "metadata": {},
   "outputs": [
    {
     "data": {
      "text/plain": [
       "Index(['title', 'authors', 'average_rating', 'isbn', 'isbn13', 'num_pages',\n",
       "       'ratings_count', 'text_reviews_count', 'publication_date', 'publisher',\n",
       "       'book_id'],\n",
       "      dtype='object')"
      ]
     },
     "execution_count": 56,
     "metadata": {},
     "output_type": "execute_result"
    }
   ],
   "source": [
    "temp = data.copy(deep = True)            # droping null values\n",
    "#(8427, 10)\n",
    "temp.columns"
   ]
  },
  {
   "cell_type": "code",
   "execution_count": 57,
   "id": "4720db95-577e-4dda-b37a-010dbe7a5c0b",
   "metadata": {
    "tags": []
   },
   "outputs": [
    {
     "data": {
      "text/html": [
       "<div>\n",
       "<style scoped>\n",
       "    .dataframe tbody tr th:only-of-type {\n",
       "        vertical-align: middle;\n",
       "    }\n",
       "\n",
       "    .dataframe tbody tr th {\n",
       "        vertical-align: top;\n",
       "    }\n",
       "\n",
       "    .dataframe thead th {\n",
       "        text-align: right;\n",
       "    }\n",
       "</style>\n",
       "<table border=\"1\" class=\"dataframe\">\n",
       "  <thead>\n",
       "    <tr style=\"text-align: right;\">\n",
       "      <th></th>\n",
       "      <th>book_id</th>\n",
       "      <th>authors</th>\n",
       "    </tr>\n",
       "  </thead>\n",
       "  <tbody>\n",
       "    <tr>\n",
       "      <th>0</th>\n",
       "      <td>0</td>\n",
       "      <td>J.K. Rowling/Mary GrandPré</td>\n",
       "    </tr>\n",
       "    <tr>\n",
       "      <th>1</th>\n",
       "      <td>1</td>\n",
       "      <td>J.K. Rowling/Mary GrandPré</td>\n",
       "    </tr>\n",
       "  </tbody>\n",
       "</table>\n",
       "</div>"
      ],
      "text/plain": [
       "   book_id                     authors\n",
       "0        0  J.K. Rowling/Mary GrandPré\n",
       "1        1  J.K. Rowling/Mary GrandPré"
      ]
     },
     "execution_count": 57,
     "metadata": {},
     "output_type": "execute_result"
    }
   ],
   "source": [
    "#Creating csv for table authors\n",
    "temp[['book_id','authors']].head(2)"
   ]
  },
  {
   "cell_type": "code",
   "execution_count": 58,
   "id": "7d96c1e5-624a-4926-b26f-115ae3a610c2",
   "metadata": {},
   "outputs": [],
   "source": [
    "authors_split = pd.concat([temp['book_id'], temp['authors'].str.split('/', expand=True)], axis=1)\n",
    "#Since a book could have more than one author, then in the book table we need to create more than one row fro a book to include\n",
    "#all authors and fulfill normalization \n",
    "#authors_split.dropna(inplace =True)"
   ]
  },
  {
   "cell_type": "code",
   "execution_count": 59,
   "id": "687e59a5-5d4b-437b-be6b-36ef77e70e2c",
   "metadata": {},
   "outputs": [
    {
     "name": "stdout",
     "output_type": "stream",
     "text": [
      "(7320, 1)\n",
      "(7319, 1)\n"
     ]
    }
   ],
   "source": [
    "#Fetching unique values\n",
    "temp_1 = authors_split.drop('book_id', axis=1)\n",
    "authors=pd.DataFrame(pd.unique(temp_1.values.ravel()))\n",
    "print(authors.shape)\n",
    "\n",
    "authors.dropna(inplace =True)         \n",
    "print(authors.shape)"
   ]
  },
  {
   "cell_type": "code",
   "execution_count": 61,
   "id": "eb5f5464-dc83-49a4-a771-1d3ab0c3c268",
   "metadata": {},
   "outputs": [],
   "source": [
    "authors['author_id'] = authors.index\n",
    "authors.rename(columns ={0: 'name'}, inplace =True)\n",
    "authors = authors[['author_id', 'name']]\n",
    "authors.head()\n",
    "authors['name']= authors['name'].str.replace(\"'\",\" \")\n",
    "#author_id moust be a primary key"
   ]
  },
  {
   "cell_type": "code",
   "execution_count": 62,
   "id": "a5e57b5a-11af-41a6-bf92-fe8951eadb3d",
   "metadata": {},
   "outputs": [],
   "source": [
    "authors.to_csv('authors.csv', index = False)"
   ]
  },
  {
   "cell_type": "markdown",
   "id": "659f7105-d90e-41c7-b783-d7b568fd7bf2",
   "metadata": {
    "tags": []
   },
   "source": [
    "## connector table book-author"
   ]
  },
  {
   "cell_type": "code",
   "execution_count": 22,
   "id": "80a4f405-8136-440e-9696-514382b98191",
   "metadata": {
    "tags": []
   },
   "outputs": [
    {
     "name": "stdout",
     "output_type": "stream",
     "text": [
      "      book_id               name\n",
      "0           0       J.K. Rowling\n",
      "0           0      Mary GrandPré\n",
      "1           1       J.K. Rowling\n",
      "1           1      Mary GrandPré\n",
      "2           2       J.K. Rowling\n",
      "...       ...                ...\n",
      "8468     8468   Anthony Bourdain\n",
      "8469     8469           D.T. Max\n",
      "8470     8470  Leonard S. Marcus\n",
      "8470     8470   Ursula Nordstrom\n",
      "8470     8470     Maurice Sendak\n",
      "\n",
      "[14418 rows x 2 columns]\n"
     ]
    }
   ],
   "source": [
    "connec = pd.DataFrame()\n",
    "for i in range(authors_split.shape[1]-1):\n",
    "    tem = authors_split[['book_id', i]].dropna()\n",
    "    tem.rename(columns = {i: 'name'}, inplace =True)\n",
    "    connec = connec.append(tem)\n",
    "connec.sort_values('book_id', inplace=True)\n",
    "print(connec)\n",
    "#authors_split"
   ]
  },
  {
   "cell_type": "code",
   "execution_count": 24,
   "id": "50ed1446-71f5-438d-98bf-0fe3b0591c85",
   "metadata": {},
   "outputs": [],
   "source": [
    "connect = connec.copy(deep=True)"
   ]
  },
  {
   "cell_type": "code",
   "execution_count": 25,
   "id": "507ead62-9be9-4833-b502-5123451531c0",
   "metadata": {
    "tags": []
   },
   "outputs": [
    {
     "data": {
      "text/html": [
       "<div>\n",
       "<style scoped>\n",
       "    .dataframe tbody tr th:only-of-type {\n",
       "        vertical-align: middle;\n",
       "    }\n",
       "\n",
       "    .dataframe tbody tr th {\n",
       "        vertical-align: top;\n",
       "    }\n",
       "\n",
       "    .dataframe thead th {\n",
       "        text-align: right;\n",
       "    }\n",
       "</style>\n",
       "<table border=\"1\" class=\"dataframe\">\n",
       "  <thead>\n",
       "    <tr style=\"text-align: right;\">\n",
       "      <th></th>\n",
       "      <th>author_id</th>\n",
       "      <th>name</th>\n",
       "    </tr>\n",
       "  </thead>\n",
       "  <tbody>\n",
       "    <tr>\n",
       "      <th>0</th>\n",
       "      <td>0</td>\n",
       "      <td>J.K. Rowling</td>\n",
       "    </tr>\n",
       "    <tr>\n",
       "      <th>1</th>\n",
       "      <td>1</td>\n",
       "      <td>Mary GrandPré</td>\n",
       "    </tr>\n",
       "    <tr>\n",
       "      <th>3</th>\n",
       "      <td>3</td>\n",
       "      <td>W. Frederick Zimmerman</td>\n",
       "    </tr>\n",
       "  </tbody>\n",
       "</table>\n",
       "</div>"
      ],
      "text/plain": [
       "   author_id                    name\n",
       "0          0            J.K. Rowling\n",
       "1          1           Mary GrandPré\n",
       "3          3  W. Frederick Zimmerman"
      ]
     },
     "execution_count": 25,
     "metadata": {},
     "output_type": "execute_result"
    }
   ],
   "source": [
    "authors.head(3) "
   ]
  },
  {
   "cell_type": "code",
   "execution_count": 26,
   "id": "be06ccc4-57c2-4c1c-ab1b-9a6da3c8ed42",
   "metadata": {},
   "outputs": [],
   "source": [
    "#connecting table book_id and author_id\n",
    "connect =connect.set_index('name').join(authors.set_index('name'))\n",
    "connect.sort_values('book_id', inplace=True)\n",
    "connect.to_csv('connector_book_author_ids.csv', index = False)"
   ]
  },
  {
   "cell_type": "markdown",
   "id": "8e55f6e0-4730-4d16-959e-03582de8e70d",
   "metadata": {
    "tags": []
   },
   "source": [
    "## publishers"
   ]
  },
  {
   "cell_type": "code",
   "execution_count": 68,
   "id": "b43965c3-7450-49aa-b439-fbdf8ec7d206",
   "metadata": {},
   "outputs": [
    {
     "data": {
      "text/plain": [
       "Index(['title', 'authors', 'average_rating', 'isbn', 'isbn13', 'num_pages',\n",
       "       'ratings_count', 'text_reviews_count', 'publication_date', 'publisher',\n",
       "       'book_id'],\n",
       "      dtype='object')"
      ]
     },
     "execution_count": 68,
     "metadata": {},
     "output_type": "execute_result"
    }
   ],
   "source": [
    "temp = data.copy(deep = True)            # droping null values\n",
    "#(8427, 10)\n",
    "temp.columns"
   ]
  },
  {
   "cell_type": "code",
   "execution_count": 69,
   "id": "280bf438-1f5b-4e72-8c9c-ed06e89764f4",
   "metadata": {},
   "outputs": [
    {
     "data": {
      "text/html": [
       "<div>\n",
       "<style scoped>\n",
       "    .dataframe tbody tr th:only-of-type {\n",
       "        vertical-align: middle;\n",
       "    }\n",
       "\n",
       "    .dataframe tbody tr th {\n",
       "        vertical-align: top;\n",
       "    }\n",
       "\n",
       "    .dataframe thead th {\n",
       "        text-align: right;\n",
       "    }\n",
       "</style>\n",
       "<table border=\"1\" class=\"dataframe\">\n",
       "  <thead>\n",
       "    <tr style=\"text-align: right;\">\n",
       "      <th></th>\n",
       "      <th>book_id</th>\n",
       "      <th>publisher</th>\n",
       "    </tr>\n",
       "  </thead>\n",
       "  <tbody>\n",
       "    <tr>\n",
       "      <th>0</th>\n",
       "      <td>0</td>\n",
       "      <td>Scholastic Inc.</td>\n",
       "    </tr>\n",
       "    <tr>\n",
       "      <th>1</th>\n",
       "      <td>1</td>\n",
       "      <td>Scholastic Inc.</td>\n",
       "    </tr>\n",
       "  </tbody>\n",
       "</table>\n",
       "</div>"
      ],
      "text/plain": [
       "   book_id        publisher\n",
       "0        0  Scholastic Inc.\n",
       "1        1  Scholastic Inc."
      ]
     },
     "execution_count": 69,
     "metadata": {},
     "output_type": "execute_result"
    }
   ],
   "source": [
    "#Creating csv for table authors\n",
    "temp[['book_id','publisher']].head(2)"
   ]
  },
  {
   "cell_type": "code",
   "execution_count": 70,
   "id": "cb0021ac-e344-4887-8678-c39bc14b6c26",
   "metadata": {},
   "outputs": [],
   "source": [
    "publishers_split = pd.concat([temp['book_id'], temp['publisher'].str.split('/', expand=True)], axis=1)\n",
    "#Since several books could be published by the same publisher, then we need to create a table for them. Also, it is necessary \n",
    "# to create a connector table to reduced memory and improve clarity \n",
    "#8427 records"
   ]
  },
  {
   "cell_type": "code",
   "execution_count": 71,
   "id": "3f2672de-d8fc-4e58-9de7-2fcb070c18c3",
   "metadata": {},
   "outputs": [
    {
     "name": "stdout",
     "output_type": "stream",
     "text": [
      "(1941, 1)\n",
      "(1940, 1)\n"
     ]
    }
   ],
   "source": [
    "#Fetching unique values\n",
    "temp_1 = publishers_split.drop('book_id', axis=1)\n",
    "publishers=pd.DataFrame(pd.unique(temp_1.values.ravel()))\n",
    "print(publishers.shape)\n",
    "\n",
    "publishers.dropna(inplace =True)         \n",
    "print(publishers.shape)"
   ]
  },
  {
   "cell_type": "code",
   "execution_count": 73,
   "id": "9c8e347f-433d-4072-97d1-0f2669a2ceed",
   "metadata": {},
   "outputs": [],
   "source": [
    "publishers['publisher_id'] = publishers.index\n",
    "publishers.rename(columns ={0: 'publisher'}, inplace =True)\n",
    "publishers = publishers[['publisher_id', 'publisher']]\n",
    "publishers.head()\n",
    "publishers['publisher']= publishers['publisher'].str.replace(\"'\",\" \")\n",
    "#author_id moust be a primary key"
   ]
  },
  {
   "cell_type": "code",
   "execution_count": 74,
   "id": "8d1c8503-2a22-4023-9acc-580c69c07967",
   "metadata": {},
   "outputs": [],
   "source": [
    "publishers.to_csv('publishers.csv', index = False)"
   ]
  },
  {
   "cell_type": "markdown",
   "id": "3f5109b6-2c9a-4e89-967f-dd51473bb41a",
   "metadata": {
    "tags": []
   },
   "source": [
    "## Connector table book-publishers"
   ]
  },
  {
   "cell_type": "code",
   "execution_count": 33,
   "id": "17895c0a-c573-4fb8-83cb-0eaa87c50797",
   "metadata": {
    "tags": []
   },
   "outputs": [
    {
     "name": "stdout",
     "output_type": "stream",
     "text": [
      "      book_id                      publisher\n",
      "0           0                Scholastic Inc.\n",
      "1           1                Scholastic Inc.\n",
      "2           2                     Scholastic\n",
      "3           3                Scholastic Inc.\n",
      "4           4                     Scholastic\n",
      "...       ...                            ...\n",
      "8465     8465                        Taschen\n",
      "8467     8467                Canongate Books\n",
      "8468     8468                Canongate Books\n",
      "8469     8469  Random House Trade Paperbacks\n",
      "8470     8470                  HarperCollins\n",
      "\n",
      "[8426 rows x 2 columns]\n"
     ]
    }
   ],
   "source": [
    "connec = pd.DataFrame()\n",
    "tem = publishers_split[['book_id', 0]].dropna()\n",
    "tem.rename(columns = {0: 'publisher'}, inplace =True)\n",
    "connec = connec.append(tem)\n",
    "connec.sort_values('book_id', inplace=True)\n",
    "print(connec)\n",
    "#authors_split"
   ]
  },
  {
   "cell_type": "code",
   "execution_count": 34,
   "id": "d3f2edfa-d349-42d4-b35a-43e86b700b6c",
   "metadata": {},
   "outputs": [],
   "source": [
    "publishers.head(3)\n",
    "#connecting table book_id and publisher_id\n",
    "connec =connec.set_index('publisher').join(publishers.set_index('publisher'))\n",
    "connec.sort_values('book_id', inplace=True)\n",
    "connec.to_csv('connector_book_publisher_ids.csv', index = False)"
   ]
  },
  {
   "cell_type": "markdown",
   "id": "73bd7aaf-b559-4e63-8b8e-be467720f30f",
   "metadata": {},
   "source": [
    "Looking if there are some repeated records"
   ]
  },
  {
   "cell_type": "code",
   "execution_count": 94,
   "id": "e9d6f9b9-531c-43ee-a380-1f1e0405fd37",
   "metadata": {},
   "outputs": [],
   "source": [
    "book_id_publishers = set(connec['book_id'].tolist())"
   ]
  },
  {
   "cell_type": "code",
   "execution_count": 95,
   "id": "db489d0a-6c39-4a2c-a28b-a69cde11da66",
   "metadata": {},
   "outputs": [],
   "source": [
    "book_id_books = set(book['book_id'].tolist())"
   ]
  },
  {
   "cell_type": "code",
   "execution_count": 96,
   "id": "66501e88-e2e8-487f-83d5-52040a43e04b",
   "metadata": {},
   "outputs": [
    {
     "data": {
      "text/plain": [
       "set()"
      ]
     },
     "execution_count": 96,
     "metadata": {},
     "output_type": "execute_result"
    }
   ],
   "source": [
    "book_id_publishers-book_id_books"
   ]
  },
  {
   "cell_type": "markdown",
   "id": "515b2c85-bf9f-48be-bf9d-9b74aee1652d",
   "metadata": {
    "tags": []
   },
   "source": [
    "### Identifiers"
   ]
  },
  {
   "cell_type": "code",
   "execution_count": null,
   "id": "08c697ed-6282-444c-b190-fcfc7bd3d464",
   "metadata": {},
   "outputs": [],
   "source": [
    "temp = data[data['isbn'].notnull()]              # droping null values\n",
    "(temp.duplicated(subset=['isbn']) == True).sum() #looking for duplicates"
   ]
  },
  {
   "cell_type": "code",
   "execution_count": null,
   "id": "a6b7c64f-cb19-4231-b17e-18a2a2e732af",
   "metadata": {},
   "outputs": [],
   "source": [
    "identifiers = pd.DataFrame()\n",
    "identifiers['isbn'] =temp['isbn']\n",
    "identifiers['isbn13'] =temp['isbn13']\n",
    "#isbn must be the primary key\n",
    "identifiers.head(3)"
   ]
  },
  {
   "cell_type": "code",
   "execution_count": null,
   "id": "e11415c6-eed3-4ba9-b038-ccb807631693",
   "metadata": {},
   "outputs": [],
   "source": [
    "identifiers.to_csv('identifier.csv', index = False)"
   ]
  }
 ],
 "metadata": {
  "kernelspec": {
   "display_name": "Python 3",
   "language": "python",
   "name": "python3"
  },
  "language_info": {
   "codemirror_mode": {
    "name": "ipython",
    "version": 3
   },
   "file_extension": ".py",
   "mimetype": "text/x-python",
   "name": "python",
   "nbconvert_exporter": "python",
   "pygments_lexer": "ipython3",
   "version": "3.7.9"
  }
 },
 "nbformat": 4,
 "nbformat_minor": 5
}
